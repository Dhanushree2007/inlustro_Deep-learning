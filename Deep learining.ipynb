{
 "cells": [
  {
   "cell_type": "code",
   "execution_count": 5,
   "id": "b98c6b17",
   "metadata": {},
   "outputs": [],
   "source": [
    "# !pip install tensorflow"
   ]
  },
  {
   "cell_type": "code",
   "execution_count": 8,
   "id": "77ff6444",
   "metadata": {},
   "outputs": [
    {
     "ename": "SyntaxError",
     "evalue": "invalid syntax (Temp/ipykernel_11548/3894866367.py, line 41)",
     "output_type": "error",
     "traceback": [
      "\u001b[1;36m  File \u001b[1;32m\"C:\\Users\\ADMINI~1\\AppData\\Local\\Temp/ipykernel_11548/3894866367.py\"\u001b[1;36m, line \u001b[1;32m41\u001b[0m\n\u001b[1;33m    model.compile(optimizer='adam',loss='categorical_crossentropy'metrics=['accuracy'])\u001b[0m\n\u001b[1;37m                                                                  ^\u001b[0m\n\u001b[1;31mSyntaxError\u001b[0m\u001b[1;31m:\u001b[0m invalid syntax\n"
     ]
    }
   ],
   "source": [
    "# Import necessary libraries\n",
    "import numpy as np\n",
    "import matplotlib.pyplot as plt\n",
    "from tensorflow.keras import datasets,layers,models\n",
    "from tensorflow.keras.utils import to_categorical\n",
    "\n",
    "#Load the CIFAR-10 datasets\n",
    "(X_train,y_train), (X_test,y_test)=datasets.cifar10.load_data()\n",
    "\n",
    "#Normalize the data (scale the pixel values to range [0,1])\n",
    "X_train,Xtest=X_train/ 255.0, X/255.0\n",
    "\n",
    "# Convert Labels to categories one-hot encoding\n",
    "y_train =to_categorical(y_train,10)\n",
    "y_test =to_categorical(y_test,10)\n",
    "\n",
    "#Build a simple CNN model\n",
    "model = models.Sequential()\n",
    "\n",
    "#Frist Convolutional layer\n",
    "model.add(layers.Conv2D(32,(3,3),activation='relu',input_shape=(32,32,3)))\n",
    "model.add(layers.MaxPooling2D((2,2)))\n",
    "\n",
    "#Second Convolutional layer\n",
    "model.add(layers.Conv2D(64,(3,3),activation='relu',input_shape=(32,32,3)))\n",
    "model.add(layers.MaxPooling2D((2,2)))\n",
    "\n",
    "#Third Convolutional layer\n",
    "model.add(layers.Conv2D(64,(3,3),activation='relu'))\n",
    "\n",
    "#Flatten the data to feed it into Dense layers\n",
    "model.add(layers.Flatten())\n",
    "\n",
    "#Fully Connected Dense layer\n",
    "model.add(layers.Dense(64,activation='relu'))\n",
    "\n",
    "#Output layer (10 categories for CIFAR-10)\n",
    "model.add(layers.Dense(10,activation='softmax'))\n",
    " \n",
    "#Compile the model\n",
    "model.compile(optimizer='adam',loss='categorical_crossentropy'metrics=['accuracy'])\n",
    "\n",
    "#Train the model\n",
    "history=model.fit(X_train,y_train, epochs=10,validation_data=(X_test,y_test))\n",
    "\n",
    "#Evoluate the model on the set\n",
    "test_loss,test_acc= model.evaluate(X_test,y_test,verbose=2)\n",
    "print(f'Test accuracy:{test_acc:.4f}')\n",
    "\n",
    "# Plot accuracy and loss over epochs\n",
    "plt.plot(history.history['accuracy'],label='accuracy')\n",
    "plt.plot(history.history['val_accuracy'],label='val_accuracy')\n",
    "plt.xlable('Epoch')\n",
    "plt.ylable('Accuracy')\n",
    "plt.ylim([0,1])\n",
    "plt.legend(loc='lower right')\n",
    "plt.show()\n",
    "\n",
    "#Make prediction on the test set\n",
    "y_pred=model.predict(X_test)\n",
    "\n",
    "#Visualizing a few test images with predictions\n",
    "class_names=['airplane','automobile','bird','cat','deer','dog','frog','horse','ship','truck']\n",
    "\n",
    "#Displaying the first 5 images and their predicted labels\n",
    "for i in range(5):\n",
    "plt.imshow(X_test[i])\n",
    "plt.title(f\"Actual:{class_names[np.argmax(y_test[i])]} Predicted:{class_names[np.argmax(y_pred[i])]}\")\n",
    "plt.show()\n",
    "\n"
   ]
  },
  {
   "cell_type": "code",
   "execution_count": null,
   "id": "b414aa37",
   "metadata": {},
   "outputs": [],
   "source": []
  }
 ],
 "metadata": {
  "kernelspec": {
   "display_name": "Python 3 (ipykernel)",
   "language": "python",
   "name": "python3"
  },
  "language_info": {
   "codemirror_mode": {
    "name": "ipython",
    "version": 3
   },
   "file_extension": ".py",
   "mimetype": "text/x-python",
   "name": "python",
   "nbconvert_exporter": "python",
   "pygments_lexer": "ipython3",
   "version": "3.9.7"
  }
 },
 "nbformat": 4,
 "nbformat_minor": 5
}
